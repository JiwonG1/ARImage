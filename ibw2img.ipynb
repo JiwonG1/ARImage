{
 "cells": [
  {
   "cell_type": "markdown",
   "metadata": {},
   "source": [
    "# Produce Images from Igor Binary Wave"
   ]
  },
  {
   "cell_type": "markdown",
   "metadata": {},
   "source": [
    "### Import necessary packages \n",
    "define useful function"
   ]
  },
  {
   "cell_type": "code",
   "execution_count": 36,
   "metadata": {},
   "outputs": [],
   "source": [
    "%matplotlib inline\n",
    "import os, sys\n",
    "from ipywidgets import interact\n",
    "try:\n",
    "    import h5py\n",
    "except ImportError:\n",
    "    !python -m pip install h5py\n",
    "try:\n",
    "    from tqdm.notebook import tqdm\n",
    "except ImportError:\n",
    "    !python -m pip install tqdm\n",
    "try:\n",
    "    from pyprnt import prnt\n",
    "except ImportError:\n",
    "    !python -m pip install tqdm\n",
    "try:\n",
    "    from matplotlib import pyplot as plt \n",
    "except ImportError:\n",
    "    !python -m pip install matplotlib\n",
    "try:\n",
    "    import ibw_utils as ibw\n",
    "except ImportError:\n",
    "    print('Check the ibw_utils.py file')\n",
    "    \n",
    "def mkfolder(path):\n",
    "    if not os.path.exists(path):\n",
    "        os.mkdir(path)"
   ]
  },
  {
   "cell_type": "markdown",
   "metadata": {},
   "source": [
    "### Set the main path or folder to generate images\n",
    "\n",
    "#### Change the name of dataset under data folder  \n",
    "dataset = 'Name of your dataset folder'\n",
    "\n",
    "\n",
    "Folder tree details  \n",
    "├── SourceCode (ibw2img.ipynb)  \n",
    "├── data  \n",
    "│  &nbsp;&nbsp;&nbsp;&nbsp;&nbsp;├──  dataset "
   ]
  },
  {
   "cell_type": "code",
   "execution_count": 37,
   "metadata": {},
   "outputs": [
    {
     "name": "stdout",
     "output_type": "stream",
     "text": [
      "Loading the ibw files...\n"
     ]
    },
    {
     "data": {
      "application/vnd.jupyter.widget-view+json": {
       "model_id": "b7c7a048968d4154a3a2a49e047a8592",
       "version_major": 2,
       "version_minor": 0
      },
      "text/plain": [
       "HBox(children=(FloatProgress(value=0.0, max=13.0), HTML(value='')))"
      ]
     },
     "metadata": {},
     "output_type": "display_data"
    },
    {
     "name": "stdout",
     "output_type": "stream",
     "text": [
      "\n"
     ]
    }
   ],
   "source": [
    "dataset = 'Stress_pvdf'\n",
    "\n",
    "path = os.path.join('./data', dataset)\n",
    "h5Files = []\n",
    "print('Loading the ibw files...')\n",
    "for filename in tqdm([f for f in os.listdir(path) if f[-3:] == 'ibw']):\n",
    "    if os.path.isfile(os.path.join(path, filename[:-3]+'h5')):\n",
    "        h5 = h5py.File(os.path.join(path, filename[:-3]+'h5'), 'r')\n",
    "        h5 = h5['Measurement_000/']\n",
    "    else:\n",
    "        h5 = ibw.ibw2h5(os.path.join(path, filename))\n",
    "    ImageObj = ibw.AngleImage(filename[:-4], h5)\n",
    "    h5Files.append(ImageObj)\n",
    "h5Files = sorted(h5Files, key=lambda h5: h5.namedangle)"
   ]
  },
  {
   "cell_type": "markdown",
   "metadata": {},
   "source": [
    "These lines will show the list of channels in the loaded ibw files"
   ]
  },
  {
   "cell_type": "code",
   "execution_count": 57,
   "metadata": {},
   "outputs": [
    {
     "name": "stdout",
     "output_type": "stream",
     "text": [
      "\n",
      "Channel List of Stress_pvdf Folder\n",
      "┌───────────┬───────────────────┐\n",
      "│Channel_000│HeightTrace        │\n",
      "│Channel_001│HeightRetrace      │\n",
      "│Channel_002│AmplitudeTrace     │\n",
      "│Channel_003│AmplitudeRetrace   │\n",
      "│Channel_004│DeflectionTrace    │\n",
      "│Channel_005│DeflectionRetrace  │\n",
      "│Channel_006│PhaseTrace         │\n",
      "│Channel_007│PhaseRetrace       │\n",
      "│Channel_008│UserCalcTrace      │\n",
      "│Channel_009│UserCalcRetrace    │\n",
      "│Channel_010│UserCalcBTrace     │\n",
      "│Channel_011│UserCalcBRetrace   │\n",
      "│Channel_012│LatAmplitudeTrace  │\n",
      "│Channel_013│LatAmplitudeRetrace│\n",
      "│Channel_014│LatPhaseTrace      │\n",
      "│Channel_015│LatPhaseRetrace    │\n",
      "│Channel_016│HeightRetrace      │\n",
      "└───────────┴───────────────────┘\n"
     ]
    }
   ],
   "source": [
    "TypeNum, channels = ibw.channel_list_folder(h5Files)\n",
    "if TypeNum == 1:\n",
    "    print('\\nChannel List of {} Folder'.format(dataset))\n",
    "    prnt(channels)\n",
    "else:\n",
    "    type_dict, type_files, channel_type = channels\n",
    "    print('\\nThere are multiple types of files in the folder...')\n",
    "    for key, val in type_dict.items():\n",
    "        print('Type {}'.format(key))\n",
    "        print('{} files in this type:\\n{}'.format(len(val.split(',')), val))\n",
    "        print('Channel List of Type {}'.format(key))\n",
    "        prnt(channel_type[type_files[key-1]])"
   ]
  },
  {
   "cell_type": "markdown",
   "metadata": {},
   "source": [
    "Set the channel to convert images, Images are saved in 'data/dataset/Images/Channel(Flatten)'"
   ]
  },
  {
   "cell_type": "code",
   "execution_count": 53,
   "metadata": {},
   "outputs": [
    {
     "name": "stdout",
     "output_type": "stream",
     "text": [
      "Selected channel name:  LatPhaseRetrace\n"
     ]
    }
   ],
   "source": [
    "channel = 15 ## <----- Change this number\n",
    "\n",
    "ChannelName = channels['Channel_'+str(channel).zfill(3)]\n",
    "print('Selected channel name: ', ChannelName)   \n",
    "\n",
    "cmaplist = ['viridis', 'plasma', 'inferno', 'magma', 'cividis', \n",
    "            'Greys', 'Purples', 'Blues', 'Greens', 'Oranges', 'Reds',\n",
    "            'YlOrBr', 'YlOrRd', 'OrRd', 'PuRd', 'RdPu', 'BuPu',\n",
    "            'GnBu', 'PuBu', 'YlGnBu', 'PuBuGn', 'BuGn', 'YlGn',\n",
    "            'binary', 'gist_yarg', 'gist_gray', 'gray', 'bone', 'pink',\n",
    "            'spring', 'summer', 'autumn', 'winter', 'cool', 'Wistia',\n",
    "            'hot', 'afmhot', 'gist_heat', 'copper', 'PiYG', 'PRGn',\n",
    "            'BrBG', 'PuOr', 'RdGy', 'RdBu', 'RdYlBu', 'RdYlGn', 'Spectral',\n",
    "            'coolwarm', 'bwr', 'seismic', 'twilight', 'twilight_shifted', 'hsv',\n",
    "            'Pastel1', 'Pastel2', 'Paired', 'Accent', 'Dark2', 'Set1', 'Set2',\n",
    "            'Set3', 'tab10', 'tab20', 'tab20b', 'tab20c', 'flag', 'prism',\n",
    "            'ocean', 'gist_earth', 'terrain', 'gist_stern',\n",
    "            'gnuplot', 'gnuplot2', 'CMRmap', 'cubehelix', 'brg',\n",
    "            'gist_rainbow', 'rainbow', 'jet', 'nipy_spectral', 'gist_ncar']"
   ]
  },
  {
   "cell_type": "markdown",
   "metadata": {},
   "source": [
    "### You can test colormap, and flattening with widgets\n",
    "Left plot is based on igro binary colormap,   \n",
    "you can change the colormap and flattening order using drop down menu and slider  \n",
    "If flattening order is -1, this means no flattening (original image)"
   ]
  },
  {
   "cell_type": "code",
   "execution_count": 61,
   "metadata": {
    "scrolled": true
   },
   "outputs": [
    {
     "data": {
      "application/vnd.jupyter.widget-view+json": {
       "model_id": "65831ab494fc4786a54421b3346e1347",
       "version_major": 2,
       "version_minor": 0
      },
      "text/plain": [
       "interactive(children=(Dropdown(description='color', options=('viridis', 'plasma', 'inferno', 'magma', 'cividis…"
      ]
     },
     "metadata": {},
     "output_type": "display_data"
    }
   ],
   "source": [
    "@interact(color = cmaplist, flattenorder = (-1, 5, 1))\n",
    "def DisplayImage(color, flattenorder=-1):\n",
    "    if flattenorder == -1:\n",
    "        img, cmap_img = ibw.h5toimg(h5Files[0].data, str(channel))\n",
    "    else:\n",
    "        img, cmap_img = ibw.h5toimg(h5Files[0].data, str(channel))\n",
    "        img = ibw.ImageFlatten(img, flattenorder)\n",
    "    f, axs = plt.subplots(1, 2, figsize=(10, 10))\n",
    "    plt.subplot(121)\n",
    "    plt.imshow(img, cmap=cmap_img)\n",
    "    plt.subplot(122)\n",
    "    plt.imshow(img, cmap=color)\n",
    "    plt.show()"
   ]
  },
  {
   "cell_type": "markdown",
   "metadata": {},
   "source": [
    "## If there is no named color map, it will use basic colormap from the igor binary  \n",
    "You can designate the colormap below"
   ]
  },
  {
   "cell_type": "code",
   "execution_count": 62,
   "metadata": {},
   "outputs": [
    {
     "name": "stdout",
     "output_type": "stream",
     "text": [
      "VectorPFM_High_V0053_-90.png is saved!\n",
      "VectorPFM_High_V0047_-75.png is saved!\n",
      "VectorPFM_High_V0044_-60.png is saved!\n",
      "VectorPFM_High_V0039_-45.png is saved!\n",
      "VectorPFM_High_V0036_-30.png is saved!\n",
      "VectorPFM_High_V0031_-15.png is saved!\n",
      "VectorPFM_High_V0001_0.png is saved!\n",
      "VectorPFM_High_V0005_+15.png is saved!\n",
      "VectorPFM_High_V0010_+30.png is saved!\n",
      "VectorPFM_High_V0014_+45.png is saved!\n",
      "VectorPFM_High_V0019_+60.png is saved!\n",
      "VectorPFM_High_V0023_+75.png is saved!\n",
      "VectorPFM_High_V0028_+90.png is saved!\n"
     ]
    }
   ],
   "source": [
    "color = 'zsdfx ba' ## <-- Colormap name in the drop down menu\n",
    "flatten = True  ## <-- Whether flattening or not (True / False)\n",
    "flatten_order = 1 ## <-- Order of flattening in integer\n",
    "\n",
    "ImagePath = os.path.join(path, 'Images')\n",
    "if flatten:\n",
    "    ChannelPath = os.path.join(ImagePath, ChannelName+'_Flatten'+str(flatten_order))\n",
    "else:\n",
    "    ChannelPath = os.path.join(ImagePath, ChannelName) \n",
    "    \n",
    "mkfolder(ImagePath)\n",
    "mkfolder(ChannelPath)\n",
    "for idx in range(len(h5Files)):\n",
    "    img, cmap_img = ibw.h5toimg(h5Files[idx].data, str(channel))\n",
    "    if not color in cmaplist:\n",
    "        color = cmap_img\n",
    "    if flatten:\n",
    "        img = ibw.ImageFlatten(img, int(flatten_order))\n",
    "    plt.imsave(os.path.join(ChannelPath, h5Files[idx].imagename+'.png'), img, cmap=color)\n",
    "    print(h5Files[idx].imagename+'.png', 'is saved!')"
   ]
  }
 ],
 "metadata": {
  "kernelspec": {
   "display_name": "Python 3",
   "language": "python",
   "name": "python3"
  },
  "language_info": {
   "codemirror_mode": {
    "name": "ipython",
    "version": 3
   },
   "file_extension": ".py",
   "mimetype": "text/x-python",
   "name": "python",
   "nbconvert_exporter": "python",
   "pygments_lexer": "ipython3",
   "version": "3.7.6"
  }
 },
 "nbformat": 4,
 "nbformat_minor": 4
}
